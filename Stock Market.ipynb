{
 "cells": [
  {
   "cell_type": "code",
   "execution_count": 10,
   "metadata": {},
   "outputs": [],
   "source": [
    "import pandas as pd\n",
    "import matplotlib.pyplot as plt\n",
    "import quandl\n",
    "import seaborn as sns\n",
    "from sklearn.linear_model import LinearRegression\n",
    "from sklearn.model_selection import train_test_split"
   ]
  },
  {
   "cell_type": "code",
   "execution_count": 11,
   "metadata": {},
   "outputs": [],
   "source": [
    "quandl.ApiConfig.api_key = ''\n",
    "stock_data = quandl.get('NSE/TCS', start_date = '2018-12-1', end_date = '2018-12-31')"
   ]
  },
  {
   "cell_type": "code",
   "execution_count": 27,
   "metadata": {},
   "outputs": [
    {
     "data": {
      "text/html": [
       "<div>\n",
       "<style scoped>\n",
       "    .dataframe tbody tr th:only-of-type {\n",
       "        vertical-align: middle;\n",
       "    }\n",
       "\n",
       "    .dataframe tbody tr th {\n",
       "        vertical-align: top;\n",
       "    }\n",
       "\n",
       "    .dataframe thead th {\n",
       "        text-align: right;\n",
       "    }\n",
       "</style>\n",
       "<table border=\"1\" class=\"dataframe\">\n",
       "  <thead>\n",
       "    <tr style=\"text-align: right;\">\n",
       "      <th></th>\n",
       "      <th>Open</th>\n",
       "      <th>High</th>\n",
       "      <th>Low</th>\n",
       "      <th>Last</th>\n",
       "      <th>Close</th>\n",
       "      <th>Total Trade Quantity</th>\n",
       "      <th>Turnover (Lacs)</th>\n",
       "    </tr>\n",
       "    <tr>\n",
       "      <th>Date</th>\n",
       "      <th></th>\n",
       "      <th></th>\n",
       "      <th></th>\n",
       "      <th></th>\n",
       "      <th></th>\n",
       "      <th></th>\n",
       "      <th></th>\n",
       "    </tr>\n",
       "  </thead>\n",
       "  <tbody>\n",
       "    <tr>\n",
       "      <th>2018-12-03</th>\n",
       "      <td>1984.00</td>\n",
       "      <td>1990.00</td>\n",
       "      <td>1968.30</td>\n",
       "      <td>1984.00</td>\n",
       "      <td>1982.40</td>\n",
       "      <td>1610576.0</td>\n",
       "      <td>31868.00</td>\n",
       "    </tr>\n",
       "    <tr>\n",
       "      <th>2018-12-04</th>\n",
       "      <td>1983.00</td>\n",
       "      <td>2019.40</td>\n",
       "      <td>1971.00</td>\n",
       "      <td>2009.85</td>\n",
       "      <td>2010.85</td>\n",
       "      <td>3270615.0</td>\n",
       "      <td>65568.23</td>\n",
       "    </tr>\n",
       "    <tr>\n",
       "      <th>2018-12-05</th>\n",
       "      <td>2006.00</td>\n",
       "      <td>2018.00</td>\n",
       "      <td>1985.00</td>\n",
       "      <td>2003.90</td>\n",
       "      <td>2006.75</td>\n",
       "      <td>2501539.0</td>\n",
       "      <td>50131.23</td>\n",
       "    </tr>\n",
       "    <tr>\n",
       "      <th>2018-12-06</th>\n",
       "      <td>1998.00</td>\n",
       "      <td>2017.00</td>\n",
       "      <td>1979.60</td>\n",
       "      <td>1990.00</td>\n",
       "      <td>1992.70</td>\n",
       "      <td>2321216.0</td>\n",
       "      <td>46373.71</td>\n",
       "    </tr>\n",
       "    <tr>\n",
       "      <th>2018-12-07</th>\n",
       "      <td>1985.05</td>\n",
       "      <td>2003.90</td>\n",
       "      <td>1973.00</td>\n",
       "      <td>1999.85</td>\n",
       "      <td>1995.20</td>\n",
       "      <td>1680420.0</td>\n",
       "      <td>33463.26</td>\n",
       "    </tr>\n",
       "    <tr>\n",
       "      <th>2018-12-10</th>\n",
       "      <td>1975.00</td>\n",
       "      <td>2011.00</td>\n",
       "      <td>1960.00</td>\n",
       "      <td>1961.00</td>\n",
       "      <td>1975.80</td>\n",
       "      <td>2010786.0</td>\n",
       "      <td>39990.73</td>\n",
       "    </tr>\n",
       "    <tr>\n",
       "      <th>2018-12-11</th>\n",
       "      <td>1970.00</td>\n",
       "      <td>2010.00</td>\n",
       "      <td>1961.00</td>\n",
       "      <td>1997.05</td>\n",
       "      <td>2000.00</td>\n",
       "      <td>2942014.0</td>\n",
       "      <td>58636.26</td>\n",
       "    </tr>\n",
       "    <tr>\n",
       "      <th>2018-12-12</th>\n",
       "      <td>2001.10</td>\n",
       "      <td>2022.00</td>\n",
       "      <td>1984.95</td>\n",
       "      <td>2016.50</td>\n",
       "      <td>2016.80</td>\n",
       "      <td>2219993.0</td>\n",
       "      <td>44663.42</td>\n",
       "    </tr>\n",
       "    <tr>\n",
       "      <th>2018-12-13</th>\n",
       "      <td>2024.00</td>\n",
       "      <td>2029.70</td>\n",
       "      <td>1974.50</td>\n",
       "      <td>1981.95</td>\n",
       "      <td>1982.60</td>\n",
       "      <td>3748429.0</td>\n",
       "      <td>74802.38</td>\n",
       "    </tr>\n",
       "    <tr>\n",
       "      <th>2018-12-14</th>\n",
       "      <td>1983.00</td>\n",
       "      <td>1998.95</td>\n",
       "      <td>1975.25</td>\n",
       "      <td>1989.00</td>\n",
       "      <td>1989.75</td>\n",
       "      <td>2473761.0</td>\n",
       "      <td>49094.42</td>\n",
       "    </tr>\n",
       "    <tr>\n",
       "      <th>2018-12-17</th>\n",
       "      <td>1999.00</td>\n",
       "      <td>2004.90</td>\n",
       "      <td>1985.00</td>\n",
       "      <td>1992.90</td>\n",
       "      <td>1994.30</td>\n",
       "      <td>1227921.0</td>\n",
       "      <td>24482.95</td>\n",
       "    </tr>\n",
       "    <tr>\n",
       "      <th>2018-12-18</th>\n",
       "      <td>1991.90</td>\n",
       "      <td>2002.00</td>\n",
       "      <td>1976.40</td>\n",
       "      <td>1987.90</td>\n",
       "      <td>1987.85</td>\n",
       "      <td>1768742.0</td>\n",
       "      <td>35137.11</td>\n",
       "    </tr>\n",
       "    <tr>\n",
       "      <th>2018-12-19</th>\n",
       "      <td>1984.80</td>\n",
       "      <td>1984.80</td>\n",
       "      <td>1960.05</td>\n",
       "      <td>1970.80</td>\n",
       "      <td>1968.45</td>\n",
       "      <td>2498833.0</td>\n",
       "      <td>49198.05</td>\n",
       "    </tr>\n",
       "    <tr>\n",
       "      <th>2018-12-20</th>\n",
       "      <td>1953.80</td>\n",
       "      <td>1974.90</td>\n",
       "      <td>1946.00</td>\n",
       "      <td>1955.00</td>\n",
       "      <td>1954.05</td>\n",
       "      <td>1940277.0</td>\n",
       "      <td>37945.10</td>\n",
       "    </tr>\n",
       "    <tr>\n",
       "      <th>2018-12-21</th>\n",
       "      <td>1948.00</td>\n",
       "      <td>1950.00</td>\n",
       "      <td>1886.55</td>\n",
       "      <td>1905.00</td>\n",
       "      <td>1895.80</td>\n",
       "      <td>3729956.0</td>\n",
       "      <td>71360.52</td>\n",
       "    </tr>\n",
       "    <tr>\n",
       "      <th>2018-12-24</th>\n",
       "      <td>1905.80</td>\n",
       "      <td>1938.90</td>\n",
       "      <td>1905.00</td>\n",
       "      <td>1922.00</td>\n",
       "      <td>1918.50</td>\n",
       "      <td>1864116.0</td>\n",
       "      <td>35878.57</td>\n",
       "    </tr>\n",
       "    <tr>\n",
       "      <th>2018-12-26</th>\n",
       "      <td>1921.80</td>\n",
       "      <td>1921.80</td>\n",
       "      <td>1870.25</td>\n",
       "      <td>1892.00</td>\n",
       "      <td>1889.20</td>\n",
       "      <td>2446614.0</td>\n",
       "      <td>46112.98</td>\n",
       "    </tr>\n",
       "    <tr>\n",
       "      <th>2018-12-27</th>\n",
       "      <td>1909.00</td>\n",
       "      <td>1941.70</td>\n",
       "      <td>1872.10</td>\n",
       "      <td>1909.10</td>\n",
       "      <td>1908.95</td>\n",
       "      <td>4968201.0</td>\n",
       "      <td>95411.46</td>\n",
       "    </tr>\n",
       "    <tr>\n",
       "      <th>2018-12-28</th>\n",
       "      <td>1915.00</td>\n",
       "      <td>1920.00</td>\n",
       "      <td>1893.00</td>\n",
       "      <td>1897.00</td>\n",
       "      <td>1896.05</td>\n",
       "      <td>2239130.0</td>\n",
       "      <td>42708.38</td>\n",
       "    </tr>\n",
       "    <tr>\n",
       "      <th>2018-12-31</th>\n",
       "      <td>1908.00</td>\n",
       "      <td>1909.00</td>\n",
       "      <td>1886.15</td>\n",
       "      <td>1894.75</td>\n",
       "      <td>1893.05</td>\n",
       "      <td>1879740.0</td>\n",
       "      <td>35647.72</td>\n",
       "    </tr>\n",
       "  </tbody>\n",
       "</table>\n",
       "</div>"
      ],
      "text/plain": [
       "               Open     High      Low     Last    Close  Total Trade Quantity  \\\n",
       "Date                                                                            \n",
       "2018-12-03  1984.00  1990.00  1968.30  1984.00  1982.40             1610576.0   \n",
       "2018-12-04  1983.00  2019.40  1971.00  2009.85  2010.85             3270615.0   \n",
       "2018-12-05  2006.00  2018.00  1985.00  2003.90  2006.75             2501539.0   \n",
       "2018-12-06  1998.00  2017.00  1979.60  1990.00  1992.70             2321216.0   \n",
       "2018-12-07  1985.05  2003.90  1973.00  1999.85  1995.20             1680420.0   \n",
       "2018-12-10  1975.00  2011.00  1960.00  1961.00  1975.80             2010786.0   \n",
       "2018-12-11  1970.00  2010.00  1961.00  1997.05  2000.00             2942014.0   \n",
       "2018-12-12  2001.10  2022.00  1984.95  2016.50  2016.80             2219993.0   \n",
       "2018-12-13  2024.00  2029.70  1974.50  1981.95  1982.60             3748429.0   \n",
       "2018-12-14  1983.00  1998.95  1975.25  1989.00  1989.75             2473761.0   \n",
       "2018-12-17  1999.00  2004.90  1985.00  1992.90  1994.30             1227921.0   \n",
       "2018-12-18  1991.90  2002.00  1976.40  1987.90  1987.85             1768742.0   \n",
       "2018-12-19  1984.80  1984.80  1960.05  1970.80  1968.45             2498833.0   \n",
       "2018-12-20  1953.80  1974.90  1946.00  1955.00  1954.05             1940277.0   \n",
       "2018-12-21  1948.00  1950.00  1886.55  1905.00  1895.80             3729956.0   \n",
       "2018-12-24  1905.80  1938.90  1905.00  1922.00  1918.50             1864116.0   \n",
       "2018-12-26  1921.80  1921.80  1870.25  1892.00  1889.20             2446614.0   \n",
       "2018-12-27  1909.00  1941.70  1872.10  1909.10  1908.95             4968201.0   \n",
       "2018-12-28  1915.00  1920.00  1893.00  1897.00  1896.05             2239130.0   \n",
       "2018-12-31  1908.00  1909.00  1886.15  1894.75  1893.05             1879740.0   \n",
       "\n",
       "            Turnover (Lacs)  \n",
       "Date                         \n",
       "2018-12-03         31868.00  \n",
       "2018-12-04         65568.23  \n",
       "2018-12-05         50131.23  \n",
       "2018-12-06         46373.71  \n",
       "2018-12-07         33463.26  \n",
       "2018-12-10         39990.73  \n",
       "2018-12-11         58636.26  \n",
       "2018-12-12         44663.42  \n",
       "2018-12-13         74802.38  \n",
       "2018-12-14         49094.42  \n",
       "2018-12-17         24482.95  \n",
       "2018-12-18         35137.11  \n",
       "2018-12-19         49198.05  \n",
       "2018-12-20         37945.10  \n",
       "2018-12-21         71360.52  \n",
       "2018-12-24         35878.57  \n",
       "2018-12-26         46112.98  \n",
       "2018-12-27         95411.46  \n",
       "2018-12-28         42708.38  \n",
       "2018-12-31         35647.72  "
      ]
     },
     "execution_count": 27,
     "metadata": {},
     "output_type": "execute_result"
    }
   ],
   "source": [
    "data = pd.DataFrame(stock_data)\n",
    "data"
   ]
  },
  {
   "cell_type": "code",
   "execution_count": 13,
   "metadata": {},
   "outputs": [
    {
     "data": {
      "text/plain": [
       "Date                    0\n",
       "Open                    0\n",
       "High                    0\n",
       "Low                     0\n",
       "Last                    0\n",
       "Close                   0\n",
       "Total Trade Quantity    0\n",
       "Turnover (Lacs)         0\n",
       "dtype: int64"
      ]
     },
     "execution_count": 13,
     "metadata": {},
     "output_type": "execute_result"
    }
   ],
   "source": [
    "data.to_csv(\"Stock.csv\")\n",
    "data = pd.read_csv('Stock.csv')\n",
    "data.isnull().sum()"
   ]
  },
  {
   "cell_type": "code",
   "execution_count": 14,
   "metadata": {},
   "outputs": [
    {
     "data": {
      "text/plain": [
       "<matplotlib.axes._subplots.AxesSubplot at 0xd281210>"
      ]
     },
     "execution_count": 14,
     "metadata": {},
     "output_type": "execute_result"
    },
    {
     "data": {
      "image/png": "[encoded data removed]",
      "text/plain": [
       "<Figure size 432x288 with 2 Axes>"
      ]
     },
     "metadata": {
      "needs_background": "light"
     },
     "output_type": "display_data"
    }
   ],
   "source": [
    "cor = data.corr()\n",
    "sns.heatmap(cor, annot = True)"
   ]
  },
  {
   "cell_type": "code",
   "execution_count": 15,
   "metadata": {},
   "outputs": [],
   "source": [
    "x = data.iloc[:,2:7]\n",
    "y = data.iloc[:,1]"
   ]
  },
  {
   "cell_type": "code",
   "execution_count": 16,
   "metadata": {},
   "outputs": [],
   "source": [
    "xTrain,xTest,yTrain,yTest = train_test_split(x, y, test_size = 0.2, random_state = 0)"
   ]
  },
  {
   "cell_type": "code",
   "execution_count": 17,
   "metadata": {},
   "outputs": [
    {
     "data": {
      "text/plain": [
       "LinearRegression(copy_X=True, fit_intercept=True, n_jobs=None,\n",
       "         normalize=False)"
      ]
     },
     "execution_count": 17,
     "metadata": {},
     "output_type": "execute_result"
    }
   ],
   "source": [
    "model = LinearRegression()\n",
    "model.fit(xTrain,yTrain)"
   ]
  },
  {
   "cell_type": "code",
   "execution_count": 18,
   "metadata": {},
   "outputs": [
    {
     "data": {
      "text/plain": [
       "0.98032807667769"
      ]
     },
     "execution_count": 18,
     "metadata": {},
     "output_type": "execute_result"
    }
   ],
   "source": [
    "model.score(xTest,yTest)"
   ]
  },
  {
   "cell_type": "code",
   "execution_count": 19,
   "metadata": {},
   "outputs": [],
   "source": [
    "pred = model.predict(xTest)"
   ]
  },
  {
   "cell_type": "code",
   "execution_count": 20,
   "metadata": {},
   "outputs": [
    {
     "name": "stdout",
     "output_type": "stream",
     "text": [
      "[1910.54522836 1988.92246563 1896.73836622 2022.66793853]\n"
     ]
    }
   ],
   "source": [
    "print(pred)"
   ]
  },
  {
   "cell_type": "code",
   "execution_count": 30,
   "metadata": {},
   "outputs": [
    {
     "data": {
      "text/plain": [
       "<matplotlib.axes._subplots.AxesSubplot at 0xe4a6f50>"
      ]
     },
     "execution_count": 30,
     "metadata": {},
     "output_type": "execute_result"
    },
    {
     "data": {
      "image/png": "[encoded data removed]",
      "text/plain": [
       "<Figure size 1080x432 with 1 Axes>"
      ]
     },
     "metadata": {
      "needs_background": "light"
     },
     "output_type": "display_data"
    }
   ],
   "source": [
    "plt.figure(figsize = (15,6))\n",
    "sns.scatterplot(yTest,pred)"
   ]
  },
  {
   "cell_type": "code",
   "execution_count": null,
   "metadata": {},
   "outputs": [],
   "source": []
  }
 ],
 "metadata": {
  "kernelspec": {
   "display_name": "Python 3",
   "language": "python",
   "name": "python3"
  },
  "language_info": {
   "codemirror_mode": {
    "name": "ipython",
    "version": 3
   },
   "file_extension": ".py",
   "mimetype": "text/x-python",
   "name": "python",
   "nbconvert_exporter": "python",
   "pygments_lexer": "ipython3",
   "version": "3.7.3"
  }
 },
 "nbformat": 4,
 "nbformat_minor": 2
}
